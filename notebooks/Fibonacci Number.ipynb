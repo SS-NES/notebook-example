{
 "cells": [
  {
   "cell_type": "markdown",
   "metadata": {},
   "source": [
    "# Fibonacci Number\n",
    "This project is licensed under MIT License \n",
    "and was created by John Doe.\n",
    "## Table of Contents\n",
    "1. [Function](#1-Function)\n",
    "2. [Results](#2-Results)"
   ]
  },
  {
   "cell_type": "markdown",
   "metadata": {},
   "source": [
    "## 1. Function"
   ]
  },
  {
   "cell_type": "code",
   "execution_count": 2,
   "metadata": {},
   "outputs": [],
   "source": [
    "def get_nth_fibonnaci_num(n):\n",
    "\n",
    "    # Check if input is 0 then it will\n",
    "    # print incorrect input\n",
    "    if n < 0:\n",
    "        print(\"Incorrect input\")\n",
    "\n",
    "    # Check if n is 0\n",
    "    # then it will return 0\n",
    "    elif n == 0:\n",
    "        return 0\n",
    "\n",
    "    # Check if n is 1 it will return 1\n",
    "    elif n == 1:\n",
    "        return 1\n",
    "\n",
    "    else:\n",
    "        return get_nth_fibonnaci_num(n-1) + get_nth_fibonnaci_num(n-2)\n",
    "        "
   ]
  },
  {
   "cell_type": "markdown",
   "metadata": {},
   "source": [
    "## 2. Results"
   ]
  },
  {
   "cell_type": "code",
   "execution_count": 4,
   "metadata": {},
   "outputs": [
    {
     "name": "stdout",
     "output_type": "stream",
     "text": [
      "The 3rd fibonacci number is:  2\n"
     ]
    }
   ],
   "source": [
    "print(\"The 3rd fibonacci number is: \", get_nth_fibonnaci_num(3))"
   ]
  }
 ],
 "metadata": {
  "kernelspec": {
   "display_name": "tdcc",
   "language": "python",
   "name": "python3"
  },
  "language_info": {
   "codemirror_mode": {
    "name": "ipython",
    "version": 3
   },
   "file_extension": ".py",
   "mimetype": "text/x-python",
   "name": "python",
   "nbconvert_exporter": "python",
   "pygments_lexer": "ipython3",
   "version": "3.12.5"
  }
 },
 "nbformat": 4,
 "nbformat_minor": 2
}
